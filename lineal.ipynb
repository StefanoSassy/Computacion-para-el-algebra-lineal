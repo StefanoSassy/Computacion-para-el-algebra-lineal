{
 "cells": [
  {
   "cell_type": "markdown",
   "metadata": {},
   "source": [
    "# Aprovechamiento en la computación para la enseñanza del álgebra lineal.\n",
    "\n",
    "## Matrices \n",
    "\n",
    "Cómo ingresar matrices:\n",
    "Recordemos que las matrices son listas de listas (un (0,2)-tensor). La idea es programar de manera manual (en bruto) para después utilizar las paqueterías y/o librerías que nos permitan simplificar el código. En este caso, estamos utilizando VSCode + Jupyter + Python en el contexto de enseñar álgebra lineal a través de la computación. Este entorno incluye muchas herramientas útiles, como el formato de texto, LaTeX, entre otras.\n",
    "\n",
    "$$\n",
    "A = \\begin{bmatrix} \n",
    "1 & 2 & 3 \\\\ \n",
    "4 & 5 & 6 \\\\ \n",
    "7 & 8 & 9 \n",
    "\\end{bmatrix}.\n",
    "$$\n"
   ]
  },
  {
   "cell_type": "code",
   "execution_count": 18,
   "metadata": {},
   "outputs": [
    {
     "name": "stdout",
     "output_type": "stream",
     "text": [
      "[[1, 2, 3], [4, 5, 6], [7, 8, 9]]\n",
      "[1, 2, 3]\n",
      "[4, 5, 6]\n",
      "[7, 8, 9]\n"
     ]
    }
   ],
   "source": [
    "A=[[1,2,3],[4,5,6],[7,8,9]] #Matriz de 3x3. Nótese que se escribe por renglones. El símbolo \"=\" se traduce como \"definimos tal cosa\". \n",
    "print(A)\n",
    "\n",
    "def print_matrix(matrix): #Uso del ingles para implementar código. \n",
    "    for renglon in matrix: #Para cada renglon de mi matriz imprime en renglon. \n",
    "        print(renglon)\n",
    "\n",
    "print_matrix(A) #Nótese que los sálidas al imprimir la matriz tienen distintas sintaxis. "
   ]
  },
  {
   "cell_type": "markdown",
   "metadata": {},
   "source": [
    "# Operaciones básicas de matrices. \n",
    "## Suma de matrices. \n",
    "Recordando que solo se pueden sumar matrices del mismo tamaño, definimos la suma entrada a entrada. \n",
    "$$A\\oplus B=(a_{ij})\\oplus (b_{ij})=(a_{ij}+b_{ij}).$$\n",
    "En esta parate se trabaja el como ingresar a un elemento específico de una matriz tomando en cuenta que Python (y otros lenguajes de programación) empiezan a contar desde \"0\". La longitud de una lista (cuantos elementos contiene) y el rango de un número. Además de crear la matriz cero, que nos ayudará a sustituir en ella cada suma que realicemos de manera ordenada. "
   ]
  },
  {
   "cell_type": "code",
   "execution_count": 19,
   "metadata": {},
   "outputs": [
    {
     "name": "stdout",
     "output_type": "stream",
     "text": [
      "6\n",
      "[[0, 0, 0], [0, 0, 0], [0, 0, 0]]\n",
      "[10, 10, 10]\n",
      "[10, 10, 10]\n",
      "[10, 10, 10]\n"
     ]
    }
   ],
   "source": [
    "print(A[1][2]) #A[renglon][columna]=A[i][j]=a_{ij}.\n",
    "B=[[9,8,7],[6,5,4],[3,2,1]]\n",
    "# C=[[A[i][j]+B[i][j]]] rellenar la matriz resultante de sumar. \n",
    "# Vamos a crear una matriz de puros ceros. \n",
    "rows= len(A) #longitud de A como listas de listas (cuantas sublistas tiene A).\n",
    "cols=len(A[0])\n",
    "C=[[0 for j in range(cols)]for i in range(rows)]\n",
    "print(C)\n",
    "\n",
    "def sum_matrix(matrix_1,matrix_2):\n",
    "    result=[[0 for j in range(cols)]for i in range(rows)]\n",
    "    for i in range(rows): #range(3)->[0,1,2] i va a tomar los valores 0,1 y 2. \n",
    "        for j in range(cols):\n",
    "            result[i][j]=matrix_1[i][j]+matrix_2[i][j] #Una sustitución de valores. \n",
    "    return result\n",
    "print_matrix(sum_matrix(A,B))"
   ]
  },
  {
   "cell_type": "markdown",
   "metadata": {},
   "source": [
    "## El producto por un escalar. \n",
    "Recordemos que de una matriz por un escalar se define entrada a entrada. \n",
    "$$c\\odot A =c\\odot (a_{ij})=(c\\cdot a_{ij}).$$"
   ]
  },
  {
   "cell_type": "code",
   "execution_count": 20,
   "metadata": {},
   "outputs": [
    {
     "name": "stdout",
     "output_type": "stream",
     "text": [
      "[5, 10, 15]\n",
      "[20, 25, 30]\n",
      "[35, 40, 45]\n"
     ]
    }
   ],
   "source": [
    "def product_scalar(matrix,c):\n",
    "    return [[matrix[i][j]*c for j in range(len(matrix[0]))] for i in range(len(matrix))]\n",
    "print_matrix(product_scalar(A,5))"
   ]
  },
  {
   "cell_type": "markdown",
   "metadata": {},
   "source": [
    "**Transponer matrices**, que es en sí misma una transformación lineal en el espacio de matrices, cuya definición es cambiar renglones por columnas (en orden) o vice versa. \n",
    "$$A^t=(a_{ij})^t:=(a_{ji}).$$"
   ]
  },
  {
   "cell_type": "code",
   "execution_count": 21,
   "metadata": {},
   "outputs": [
    {
     "name": "stdout",
     "output_type": "stream",
     "text": [
      "[1, 4, 7]\n",
      "[2, 5, 8]\n",
      "[3, 6, 9]\n"
     ]
    }
   ],
   "source": [
    "def transpose(matrix):\n",
    "    return [[A[j][i] for j in range(len(matrix))] for i in range(len(matrix[0]))]\n",
    "print_matrix(transpose(A))"
   ]
  },
  {
   "cell_type": "markdown",
   "metadata": {},
   "source": [
    "**La matriz identidad**, es una matriz cuadrada de $n\\times n$, con 1's en la diagonal, en el idioma de los índices quiere decir que $i=j$ (diagonal) y ceros sí $i\\neq j$ (fuera de la diagonal).  "
   ]
  },
  {
   "cell_type": "code",
   "execution_count": 22,
   "metadata": {},
   "outputs": [
    {
     "name": "stdout",
     "output_type": "stream",
     "text": [
      "[1, 0, 0]\n",
      "[0, 1, 0]\n",
      "[0, 0, 1]\n"
     ]
    }
   ],
   "source": [
    "def indentity_n(n):\n",
    "    I=[[0]*n for i in range(n)] \n",
    "    for i in range(n): #range(n)=[0,1,2,...,n-1] i toma los valores 0,1,2,..., n-1\n",
    "        I[i][i]=1\n",
    "    return I\n",
    "print_matrix(indentity_n(3))"
   ]
  },
  {
   "cell_type": "markdown",
   "metadata": {},
   "source": [
    "## Multiplicación de matrices. \n",
    "$$\n",
    "\\begin{bmatrix}\n",
    "a_{11} & a_{12} & \\cdots & a_{1n} \\\\\n",
    "a_{21} & a_{22} & \\cdots & a_{2n} \\\\\n",
    "\\vdots & \\vdots & \\ddots & \\vdots \\\\\n",
    "a_{m1} & a_{m2} & \\cdots & a_{mn}\n",
    "\\end{bmatrix}\n",
    "\\cdot\n",
    "\\begin{bmatrix}\n",
    "b_{11} & b_{12} & \\cdots & b_{1l} \\\\\n",
    "b_{21} & b_{22} & \\cdots & b_{2l} \\\\\n",
    "\\vdots & \\vdots & \\ddots & \\vdots \\\\\n",
    "b_{n1} & b_{n2} & \\cdots & b_{nl}\n",
    "\\end{bmatrix}\n",
    "=\n",
    "\\begin{bmatrix}\n",
    "c_{11} & c_{12} & \\cdots & c_{1l} \\\\\n",
    "c_{21} & c_{22} & \\cdots & c_{2l} \\\\\n",
    "\\vdots & \\vdots & \\ddots & \\vdots \\\\\n",
    "c_{m1} & c_{m2} & \\cdots & c_{ml}\n",
    "\\end{bmatrix},\n",
    "$$\n",
    "\n",
    "$$\n",
    "c_{ij} = \\sum_{k=1}^{n} a_{ik} b_{kj}=a_{i1}b_{1j}+a_{i2}b_{2j}+\\cdots+a_{in}b_{nj}.\n",
    "$$\n",
    "\n",
    "La multiplicación de matrices depende del número de renglones y columnas de la siguiente manera:\n",
    "$$A_{m\\times n}B_{n\\times l}=C_{m\\times l}.$$\n",
    "Nótese que esta definición hace que el producto de matrices no sea conmutativo, también obtenemos un tercer subíndice con cual tratar. Además, la matriz cero que construimos no es igual a la matriz cero que se usa en la suma. "
   ]
  },
  {
   "cell_type": "code",
   "execution_count": 23,
   "metadata": {},
   "outputs": [
    {
     "name": "stdout",
     "output_type": "stream",
     "text": [
      "[30, 24, 18]\n",
      "[84, 69, 54]\n",
      "[138, 114, 90]\n"
     ]
    }
   ],
   "source": [
    "def mult_matrix(A,B):\n",
    "    rows_A=len(A)\n",
    "    cols_A=len(A[0])\n",
    "    cols_B=len(B[0])\n",
    "    C=[[0]*cols_B for i in range(rows_A)] #Matriz cero para el producto. \n",
    "\n",
    "    for i in range(rows_A): #range(rows_A)=[0,1,2,...,m-1].\n",
    "        for j in range(cols_B): #range(cols_B)=[0,1,2,...,l-1].\n",
    "            for k in range(cols_A): #range(cols_A)=[0,1,2,...,n-1].\n",
    "                C[i][j]+=A[i][k]*B[k][j]\n",
    "    return C\n",
    "print_matrix(mult_matrix(A,B))"
   ]
  },
  {
   "cell_type": "markdown",
   "metadata": {},
   "source": [
    "## Matriz asociada a una transformación lineal. \n",
    "Recordemos que la matriz asociada a una transformación lineal depende de la base que tomemos para generar la matriz, es decir, si tenemos $T:\\mathbb{R}^n \\rightarrow \\mathbb{R}^m$ y $\\beta=\\{e_1,...,e_n\\}$ una base, la matriz asociada a la transformación en la base $\\beta$ es $[T]_\\beta=[T(e_1)\\;\\; T(e_2)\\;\\;\\cdots \\;\\; T(e_n)]$ donde $T(e_i)$ son vectores columna. \n",
    "\n",
    "Por ejemplo $T:\\mathbb{R}^2\\rightarrow \\mathbb{R}^2$, dada por $T(x,y)=(2x+y,x-y)$ en la base canónica $\\beta=\\{(1,0),(0,1)\\}$ obtenemos la matriz asociada  \n",
    "$$ [T]_\\beta=[T(1,0)\\;\\; T(0,1)]= \\begin{bmatrix} 2 & 1 \\\\ 1 & -1\\end{bmatrix}. $$"
   ]
  },
  {
   "cell_type": "code",
   "execution_count": 24,
   "metadata": {},
   "outputs": [
    {
     "name": "stdout",
     "output_type": "stream",
     "text": [
      "[2, 1]\n",
      "[1, -1]\n"
     ]
    }
   ],
   "source": [
    "def matrix_aso(map,base):\n",
    "    return[[map(v)[i] for v in base] for i in range(len(base))]\n",
    "#Ingresemos una transformación lineal y una base específicas para hacer trabajar al código. \n",
    "def T(v): #Definimos nuestra transformación lineal como función.\n",
    "    x,y=v\n",
    "    return (2*x+y,x-y)\n",
    "base=[(1,0),(0,1)] #Ingresamos la base (puede ser una base distinta).\n",
    "print_matrix(matrix_aso(T,base)) \n"
   ]
  },
  {
   "cell_type": "markdown",
   "metadata": {},
   "source": [
    "## Numpy para las operaciones con matrices. \n",
    "Después de programar por uno mismo las operaciones básicas de matrices utilizaremos la libreria **numpy**, la cual incluye el concepto de \"array\", que maneja una sintaxis distinta tanto en el código como en la salida al imprimir una matriz. "
   ]
  },
  {
   "cell_type": "code",
   "execution_count": 25,
   "metadata": {},
   "outputs": [
    {
     "name": "stdout",
     "output_type": "stream",
     "text": [
      "\n",
      "[[9 8 7]\n",
      " [6 5 4]\n",
      " [3 2 1]]\n",
      "\n",
      "[[10 10 10]\n",
      " [10 10 10]\n",
      " [10 10 10]]\n",
      "\n",
      "[[ 30  24  18]\n",
      " [ 84  69  54]\n",
      " [138 114  90]]\n",
      "\n",
      "[[1 4 7]\n",
      " [2 5 8]\n",
      " [3 6 9]]\n",
      "\n",
      "[[0. 0. 0.]\n",
      " [0. 0. 0.]\n",
      " [0. 0. 0.]\n",
      " [0. 0. 0.]]\n",
      "\n",
      "[[1. 0. 0. 0. 0.]\n",
      " [0. 1. 0. 0. 0.]\n",
      " [0. 0. 1. 0. 0.]\n",
      " [0. 0. 0. 1. 0.]\n",
      " [0. 0. 0. 0. 1.]]\n"
     ]
    }
   ],
   "source": [
    "import numpy as np\n",
    "\n",
    "# Definición de las matrices\n",
    "A_np = np.array([[1, 2, 3], [4, 5, 6], [7, 8, 9]])\n",
    "B_np = np.array(B)  # Asegúrate de que 'B' esté definido previamente\n",
    "\n",
    "# Imprimir matrices y resultados en un solo print\n",
    "print(f\"\\n{B_np}\\n\")\n",
    "\n",
    "# Suma de matrices\n",
    "C_np = A_np + B_np\n",
    "print(f\"{C_np}\\n\")\n",
    "\n",
    "# Producto de matrices\n",
    "D_np = np.dot(A_np, B_np)\n",
    "print(f\"{D_np}\\n\")\n",
    "\n",
    "# Transpuesta de A_np\n",
    "T_np = A_np.T\n",
    "print(f\"{T_np}\\n\")\n",
    "\n",
    "# Matriz de ceros (4x3)\n",
    "zeros_matrix = np.zeros((4, 3))\n",
    "print(f\"{zeros_matrix}\\n\")\n",
    "\n",
    "# Matriz identidad 5x5\n",
    "identity_matrix = np.eye(5)\n",
    "print(f\"{identity_matrix}\")"
   ]
  },
  {
   "cell_type": "markdown",
   "metadata": {},
   "source": [
    "Finalmente, en numpy existe muchos *submódulos*, como *np.linalg*, que nos ayudan tanto en la parte teórica como el rango de una matriz y la parte practica como el determinante o la inversa de una matriz. "
   ]
  },
  {
   "cell_type": "code",
   "execution_count": 26,
   "metadata": {},
   "outputs": [
    {
     "name": "stdout",
     "output_type": "stream",
     "text": [
      "2\n",
      "0.0\n"
     ]
    }
   ],
   "source": [
    "#Que mas puede hacer numpy \n",
    "rango=np.linalg.matrix_rank(A)\n",
    "print(rango)\n",
    "det=np.linalg.det(A)\n",
    "print(det)\n"
   ]
  },
  {
   "cell_type": "markdown",
   "metadata": {},
   "source": [
    "## Extra (Tensores, matrices y tensorflow).\n",
    "Los tensores son funciones $T:V^*\\times \\cdots \\times V^* \\times V\\times \\cdots \\times V\\rightarrow \\mathbb{K}$, multilineales, es decir, $$T(v_1,\\dots ,\\lambda v_i+w,\\dots, v_{r+s})=\\lambda T(v_1,\\cdots,v_i,\\cdots,v_{r+s})+T(v_1,\\cdots,w,\\cdots,v_{r+s}),$$\n",
    "donde $V^*\\times \\cdots \\times V^*=(V^*)^r$, $V\\times \\cdots \\times V=V^s$ y $\\lambda$ un escalar en el campo $\\mathbb{K}$.\n",
    "\n",
    "Cuando decirmos que una matriz es un $(0,2)$-tensor se tiene que precisar a que nos referimos y remarcar las diferencias entre definiciones. Para fijar ideas tomemos $V=\\mathbb{R}^2$, las matrices son transformaciones lineales $A:\\mathbb{R}^2\\rightarrow \\mathbb{R}^2$, que estrictamente no es un tensor, pues el contradominio no es el campo $\\mathbb{R}$. Para \"ajustarlo\" a la definición de tensor debemos definir una transformación auxiliar, $T_A:\\mathbb{R}^2\\times \\mathbb{R}^2\\rightarrow \\mathbb{R}$, dada por $T_A(v,w)=v^tAw$. Nótese que $T_A$ ya es un $(0,2)$-tensor,es decir, una transformación multilineal; el $0$ se refiere a que no aparece el espacio dual $(\\mathbb{R}^2)^*$ y el $2$ son las dos copias de $\\mathbb{R}^2$ en el dominio de $T_A$.\n",
    "\n",
    "Veamos como ingresar \"matrices\" en el la librería de tensorflow. "
   ]
  },
  {
   "cell_type": "code",
   "execution_count": 27,
   "metadata": {},
   "outputs": [
    {
     "name": "stdout",
     "output_type": "stream",
     "text": [
      "tf.Tensor(\n",
      "[[1 2]\n",
      " [3 4]], shape=(2, 2), dtype=int32)\n",
      "[[0 5]\n",
      " [6 7]]\n"
     ]
    }
   ],
   "source": [
    "import tensorflow as tf\n",
    "# Definimos dos matrices ((0,2)-tensores).\n",
    "A = tf.constant([[1, 2], [3, 4]])  # Matriz 2x2.\n",
    "B = tf.constant([[0, 5], [6, 7]])  # Matriz 2x2.\n",
    "print(A) # Muestra la matriz directamente en la consola con la sintaxis de tensorflow.\n",
    "print(B.numpy())  # Convierte el tensor a una matriz NumPy antes de imprimir."
   ]
  },
  {
   "cell_type": "markdown",
   "metadata": {},
   "source": [
    "## Otros tipos de tensores.\n",
    "\n",
    "Tomemos un $(0,3)$-tensor, $ T:(\\mathbb{R}^2)^3\\rightarrow \\mathbb{R}$. Este tensor también tiene una \"matriz\" asociada, donde las entradas de la matriz vienen dadas por los coeficientes \n",
    "$ T_{ijk}=T(e_i,e_j,e_k),$ con $\\beta = \\{e_1,e_2\\}$ base de $\\mathbb{R}^2$ y los índices $i,\\, j,\\, k$ tomando los valores $1,2$ y. Esto no es una matriz, sino un arreglo cúbico donde la cara de enfrente y la de atras tienes los arreglos \n",
    "$$\n",
    "\\begin{bmatrix} T_{111} & T_{112}  \\\\  T_{121} & T_{122}  \\\\  \\end{bmatrix}, \\quad \\begin{bmatrix} T_{211} & T_{212}  \\\\  T_{221} & T_{222}  \\\\  \\end{bmatrix}.\n",
    "$$\n",
    "\n",
    "La \"matriz asociada\" de un $(0,4)$-tensor ya no tiene un arreglo visual que lo represente, pero sí tiene un arreglo en la sintaxis de tensorflow. \n",
    "\n",
    "¿Qué sucede con los tensores del tipo $(r,s)$ con $r\\neq 0$? Por ejemplo un $(1,2)$-tensor tiene como coeficientes $T^i_{jk}$ donde el supraíndice $i$ representa los elementos de la base en el espacio dual $V^*$, pero gracias al álgebra lineal, se puede *bajar* el índice para transformarlo en un $(0,3)$-tensor usando la matriz asociada al producto interno $g_{il}$ de la siguiente manera: \n",
    "$$ T_{ijk}=g_{il}T^l_{jk}.$$ \n",
    "Veamos el código.\n",
    "\n",
    "\n"
   ]
  },
  {
   "cell_type": "code",
   "execution_count": 28,
   "metadata": {},
   "outputs": [
    {
     "name": "stdout",
     "output_type": "stream",
     "text": [
      "[[[1 2]\n",
      "  [3 4]]\n",
      "\n",
      " [[5 6]\n",
      "  [7 8]]]\n",
      "[[[[1 2]\n",
      "   [3 4]]\n",
      "\n",
      "  [[5 6]\n",
      "   [7 8]]]\n",
      "\n",
      "\n",
      " [[[9 10]\n",
      "   [11 12]]\n",
      "\n",
      "  [[13 14]\n",
      "   [15 16]]]]\n",
      "[[[1 2]\n",
      "  [3 4]]\n",
      "\n",
      " [[5 6]\n",
      "  [7 8]]]\n"
     ]
    },
    {
     "name": "stdout",
     "output_type": "stream",
     "text": [
      "Tensor (0,3) después de bajar un índice: [[[1 2]\n",
      "  [3 4]]\n",
      "\n",
      " [[5 6]\n",
      "  [7 8]]]\n"
     ]
    }
   ],
   "source": [
    "T_03 = tf.constant([[[1, 2], [3, 4]],[[5, 6], [7, 8]]]) #Un (0,3)-tensor en un espacio de dimensión 2.\n",
    "T_04 = tf.constant([[[[1, 2], [3, 4]], [[5, 6], [7, 8]]],[[[9, 10], [11, 12]], [[13, 14], [15, 16]]]]) #Un (0,4)-tensor. \n",
    "T_12 = tf.constant([\n",
    "    [[1, 2], [3, 4]],  # Primer vector resultante\n",
    "    [[5, 6], [7, 8]]   # Segundo vector resultante\n",
    "])\n",
    "\n",
    "g = tf.constant([\n",
    "    [1, 0], \n",
    "    [0, 1]\n",
    "])\n",
    "\n",
    "# Realizamos la contracción usando tensordot para bajar el índice\n",
    "T_03_lowered = tf.tensordot(g, T_12, axes=1)  # Contracción del primer índice\n",
    "\n",
    "tf.print(T_03)\n",
    "tf.print(T_04)\n",
    "tf.print(T_12) \n",
    "tf.print(\"Tensor (0,3) después de bajar un índice:\", T_03_lowered)\n",
    "#Notese que no hay diferencias entre las sintaxis de T_03, T_12 y T_03_lowered, las diferencias son puramente matemáticas.  "
   ]
  },
  {
   "cell_type": "markdown",
   "metadata": {},
   "source": [
    "# El producto tensorial. \n",
    "\n",
    "Sea $T_1$ un tensor de tipo $(r_1, s_1)$ y $T_2$ un tensor de tipo $(r_2, s_2)$.  \n",
    "El producto tensorial de $T_1$ y $T_2$ es un nuevo tensor de tipo $(r_1 + r_2, s_1 + s_2)$, definido por:\n",
    "\n",
    "\\begin{align*}\n",
    "(T_1 \\otimes T_2) & (\\theta^1, \\dots, \\theta^{r_1 + r_2}, v_1, \\dots, v_{s_1 + s_2}) =  \\\\\n",
    "& T_1 (\\theta^1, \\dots, \\theta^{r_1}, v_1, \\dots, v_{s_1}) \\cdot T_2 (\\theta^{r_1+1}, \\dots, \\theta^{r_1 + r_2}, v_{s_1+1}, \\dots, v_{s_1+s_2})\n",
    "\\end{align*}\n",
    "\n",
    "donde $\\theta^i$ son vectores duales y $v_j$ son vectores.\n",
    "\n",
    "Si queremos hacer el producto tensorial de dos matrices $A$ y $B$, nos tenemos que apoyar en $T_A$ y $T_B$, más aun, si queremos lo coeficientes de este nuevo tensor tenemos que hacer los siguiente calculos:\n",
    "$$ (A\\otimes B)_{ijkl}=(T_A \\otimes T_B)_{ijkl}=T_A\\otimes T_B(e_i,e_j,e_k,e_l)=T_A(e_i,e_j)T_B(e_k,e_l). $$\n",
    "\n",
    "Aquí las susticiones son bastante mas numerosas, pero la libreria tensorflow tiene el submódulo *tf.tensordot* (que ya usamos anteriormente) que nos ayuda a minimizar el trabajo manual.\n",
    "Curiosamente, el producto tensorial sí nos permite \"multiplicar\" matrices de distintos tamaños sin restricción.  "
   ]
  },
  {
   "cell_type": "code",
   "execution_count": 29,
   "metadata": {},
   "outputs": [
    {
     "name": "stdout",
     "output_type": "stream",
     "text": [
      "tf.Tensor(\n",
      "[[[[ 5  6]\n",
      "   [ 7  8]]\n",
      "\n",
      "  [[10 12]\n",
      "   [14 16]]]\n",
      "\n",
      "\n",
      " [[[15 18]\n",
      "   [21 24]]\n",
      "\n",
      "  [[20 24]\n",
      "   [28 32]]]], shape=(2, 2, 2, 2), dtype=int32)\n"
     ]
    }
   ],
   "source": [
    "A = tf.constant([[1, 2], [3, 4]])  # Matriz 2x2\n",
    "B = tf.constant([[5, 6], [7, 8]])  # Matriz 2x2\n",
    "\n",
    "tensor_product = tf.tensordot(A, B, axes=0) #axes \n",
    "print(tensor_product)"
   ]
  },
  {
   "cell_type": "markdown",
   "metadata": {},
   "source": [
    "Cuando axes=0, no hay contracción de índices, lo que significa que cada elemento de A se \"multiplica\" con cada elemento de B, generando un tensor de orden superior; axes=1 es el producto matricial (similar a $AB$ si las dimensiones lo permiten); axes=2 es la contracción sobre dos dimensiones, similar al producto interno en tensores de orden mayor."
   ]
  }
 ],
 "metadata": {
  "kernelspec": {
   "display_name": "venv",
   "language": "python",
   "name": "python3"
  },
  "language_info": {
   "codemirror_mode": {
    "name": "ipython",
    "version": 3
   },
   "file_extension": ".py",
   "mimetype": "text/x-python",
   "name": "python",
   "nbconvert_exporter": "python",
   "pygments_lexer": "ipython3",
   "version": "3.12.2"
  }
 },
 "nbformat": 4,
 "nbformat_minor": 2
}
